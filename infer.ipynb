{
 "cells": [
  {
   "cell_type": "code",
   "execution_count": 25,
   "id": "da471b03-5bd1-45ab-b207-6a425a76f7f0",
   "metadata": {},
   "outputs": [],
   "source": [
    "import os\n",
    "from PIL import Image\n",
    "import numpy as np\n",
    "from matplotlib import pyplot as plt\n",
    "import torch\n",
    "from torch.nn import functional as F\n",
    "from torchvision import transforms\n",
    "from src import AEModel, NormNoiseQuantization"
   ]
  },
  {
   "cell_type": "code",
   "execution_count": null,
   "id": "059a8faa-8bdc-4aa6-a447-fd78fbc86f68",
   "metadata": {},
   "outputs": [],
   "source": []
  },
  {
   "cell_type": "code",
   "execution_count": 106,
   "id": "538c0c2f-8e4c-41e4-9a6e-6d3af8c2ea2a",
   "metadata": {},
   "outputs": [],
   "source": [
    "def read_image(path):\n",
    "    tr = transforms.Compose([\n",
    "            transforms.ToTensor(),\n",
    "            transforms.Normalize((0.485, 0.456, 0.406), (0.229, 0.224, 0.225)),\n",
    "    ])\n",
    "    \n",
    "    img = tr(Image.open(path)).unsqueeze(0)\n",
    "    return img\n",
    "\n",
    "\n",
    "def mse_loss(result, target):\n",
    "    return F.mse_loss(result, target)\n",
    "\n",
    "\n",
    "def psnr(result, target):\n",
    "    mse = mse_loss(result, target)\n",
    "    return 20 * torch.log10(result.max() / mse**0.5)\n",
    "\n",
    "\n",
    "def BPP(path, original_path):\n",
    "    file_size = os.path.getsize(path)\n",
    "    return file_size * 8 / (512*512)\n",
    "\n",
    "\n",
    "def normalize_img(img):\n",
    "    img -= img.min()\n",
    "    img /= img.max()\n",
    "    img *= 255\n",
    "    img = img.detach().squeeze(0).permute(1, 2, 0).numpy().astype(int)\n",
    "    return img"
   ]
  },
  {
   "cell_type": "code",
   "execution_count": 107,
   "id": "cf653964-1e47-4a2f-a328-18ae7256681f",
   "metadata": {},
   "outputs": [
    {
     "data": {
      "image/png": "[encoded data removed]",
      "text/plain": [
       "<Figure size 432x288 with 1 Axes>"
      ]
     },
     "metadata": {
      "needs_background": "light"
     },
     "output_type": "display_data"
    },
    {
     "data": {
      "text/plain": [
       "<matplotlib.legend.Legend at 0x11ef3f850>"
      ]
     },
     "execution_count": 107,
     "metadata": {},
     "output_type": "execute_result"
    },
    {
     "data": {
      "image/png": "[encoded data removed]",
      "text/plain": [
       "<Figure size 432x288 with 1 Axes>"
      ]
     },
     "metadata": {
      "needs_background": "light"
     },
     "output_type": "display_data"
    }
   ],
   "source": [
    "model = AEModel()\n",
    "model.load_state_dict(torch.load('weights/ae_step95000.pt'))\n",
    "model.eval()\n",
    "\n",
    "\n",
    "pics = [\n",
    "    'data/baboon.png',\n",
    "    'data/lena.png',\n",
    "    'data/peppers.png'\n",
    "]\n",
    "\n",
    "\n",
    "# model\n",
    "\n",
    "quantizations = [1, 2, 3, 4, 5, 6]\n",
    "\n",
    "psnrs = [0 for _ in quantizations]\n",
    "bpps = [0 for _ in quantizations]\n",
    "for path in pics:\n",
    "    pic = read_image(path)\n",
    "    \n",
    "    for i, q in enumerate(quantizations):\n",
    "        quantizator = NormNoiseQuantization(q)\n",
    "\n",
    "        # calc psnr\n",
    "        embedding = model.encode(pic)\n",
    "        quantized = quantizator(embedding)\n",
    "        pred = model.decode(quantized)\n",
    "        psnrs[i] += psnr(pred, pic).item()\n",
    "        \n",
    "        # calc bpp\n",
    "        Image.fromarray(normalize_img(pred), mode='RGB').save(path + '.bin.png')\n",
    "        # with open(path + '.bin', 'wb') as f:\n",
    "            # f.write(str(quantized.tolist()).encode())\n",
    "        bpps[i] += BPP(path + '.bin.png', path)\n",
    "    \n",
    "psnrs = [v / 3 for v in psnrs]\n",
    "bpps = [v / 3 for v in bpps]\n",
    "\n",
    "plt.plot((bpps), (psnrs))\n",
    "plt.legend(['neural codec'])\n",
    "plt.show()\n",
    "\n",
    "# jpg\n",
    "\n",
    "jpeg_qualities = [10, 30, 50, 70, 90, 100]\n",
    "\n",
    "psnrs = [0 for _ in jpeg_qualities]\n",
    "bpps = [0 for _ in jpeg_qualities]\n",
    "for path in pics:\n",
    "    pic = read_image(path)\n",
    "    \n",
    "    for i, q in enumerate(jpeg_qualities):\n",
    "        \n",
    "        Image.fromarray(normalize_img(pic), mode='RGB').save(path + '.jpg', quality=q)\n",
    "        pred = read_image(path + '.jpg')\n",
    "        psnrs[i] += psnr(pred, pic).item()\n",
    "        \n",
    "        # calc bpp\n",
    "        # with open(path + '.bin', 'wb') as f:\n",
    "            # f.write(str(quantized.tolist()).encode())\n",
    "        bpps[i] += BPP(path + '.jpg', path)\n",
    "    \n",
    "psnrs = [v / 3 for v in psnrs]\n",
    "bpps = [v / 3 for v in bpps]\n",
    "\n",
    "\n",
    "plt.plot((bpps), (psnrs))\n",
    "\n",
    "plt.legend(['jpg codec'])"
   ]
  },
  {
   "cell_type": "code",
   "execution_count": null,
   "id": "aebab58a-4667-4a56-bc21-acf9a2ddac16",
   "metadata": {},
   "outputs": [],
   "source": []
  },
  {
   "cell_type": "code",
   "execution_count": null,
   "id": "c7e1bd5f-dc1e-4d63-8638-b1f5a10c570c",
   "metadata": {},
   "outputs": [],
   "source": []
  }
 ],
 "metadata": {
  "kernelspec": {
   "display_name": "Python 3 (ipykernel)",
   "language": "python",
   "name": "python3"
  },
  "language_info": {
   "codemirror_mode": {
    "name": "ipython",
    "version": 3
   },
   "file_extension": ".py",
   "mimetype": "text/x-python",
   "name": "python",
   "nbconvert_exporter": "python",
   "pygments_lexer": "ipython3",
   "version": "3.9.16"
  }
 },
 "nbformat": 4,
 "nbformat_minor": 5
}
